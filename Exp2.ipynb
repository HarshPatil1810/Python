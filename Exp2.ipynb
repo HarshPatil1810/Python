{
  "nbformat": 4,
  "nbformat_minor": 0,
  "metadata": {
    "colab": {
      "provenance": [],
      "authorship_tag": "ABX9TyPDbeGuojP2FBTvPXfDhfWV",
      "include_colab_link": true
    },
    "kernelspec": {
      "name": "python3",
      "display_name": "Python 3"
    },
    "language_info": {
      "name": "python"
    }
  },
  "cells": [
    {
      "cell_type": "markdown",
      "metadata": {
        "id": "view-in-github",
        "colab_type": "text"
      },
      "source": [
        "<a href=\"https://colab.research.google.com/github/HarshPatil1810/Python/blob/main/Exp2.ipynb\" target=\"_parent\"><img src=\"https://colab.research.google.com/assets/colab-badge.svg\" alt=\"Open In Colab\"/></a>"
      ]
    },
    {
      "cell_type": "code",
      "execution_count": null,
      "metadata": {
        "colab": {
          "base_uri": "https://localhost:8080/"
        },
        "id": "ZmbeC5eRAxa-",
        "outputId": "06ec1bb7-c3f2-42e2-906c-206377f0a125"
      },
      "outputs": [
        {
          "output_type": "stream",
          "name": "stdout",
          "text": [
            "Enter city name : Kolhapur\n",
            "{'coord': {'lon': 74.2167, 'lat': 16.7}, 'weather': [{'id': 801, 'main': 'Clouds', 'description': 'few clouds', 'icon': '02n'}], 'base': 'stations', 'main': {'temp': 23.39, 'feels_like': 24.13, 'temp_min': 23.39, 'temp_max': 23.39, 'pressure': 1009, 'humidity': 90, 'sea_level': 1009, 'grnd_level': 940}, 'visibility': 10000, 'wind': {'speed': 2.56, 'deg': 254, 'gust': 4.66}, 'clouds': {'all': 19}, 'dt': 1723473311, 'sys': {'country': 'IN', 'sunrise': 1723423579, 'sunset': 1723469410}, 'timezone': 19800, 'id': 1266285, 'name': 'Kolhāpur', 'cod': 200}\n"
          ]
        }
      ],
      "source": [
        "import json\n",
        "import requests\n",
        "#API to fetch temperature of city\n",
        "city_name=input(\"Enter city name : \")\n",
        "api_key='a0219d6db6b12503531aca6dea5b2ad0'\n",
        "# To build URL api\n",
        "api_url=f'https://api.openweathermap.org/data/2.5/weather?q={city_name}&appid={api_key}&units=metric'\n",
        "get_server_information=requests.get(api_url)\n",
        "print(get_server_information.json())"
      ]
    },
    {
      "cell_type": "code",
      "source": [],
      "metadata": {
        "id": "TGY7jNjQEjq1"
      },
      "execution_count": null,
      "outputs": []
    },
    {
      "cell_type": "markdown",
      "source": [],
      "metadata": {
        "id": "XwC3H6RDBMsK"
      }
    },
    {
      "cell_type": "code",
      "source": [],
      "metadata": {
        "id": "eGLDvsSrEmeK"
      },
      "execution_count": null,
      "outputs": []
    }
  ]
}